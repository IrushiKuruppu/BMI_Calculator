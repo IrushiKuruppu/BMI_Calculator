{
 "cells": [
  {
   "cell_type": "code",
   "execution_count": 29,
   "id": "06109e5e-0793-4828-a60d-a58a413685c8",
   "metadata": {},
   "outputs": [
    {
     "name": "stdin",
     "output_type": "stream",
     "text": [
      "Enter Your Name :  Irushi\n",
      "Enter Your Weight in Pounds :  110\n",
      "Enter Your Height in Inches :  50\n"
     ]
    },
    {
     "name": "stdout",
     "output_type": "stream",
     "text": [
      "30.932\n",
      "Irushi, you are obese\n"
     ]
    }
   ],
   "source": [
    "name = input(\"Enter Your Name : \")\n",
    "weight = int(input(\"Enter Your Weight in Pounds : \"))\n",
    "height = int(input(\"Enter Your Height in Inches : \"))\n",
    "\n",
    "BMI = (weight * 703) / (height * height)\n",
    "print(BMI)\n",
    "\n",
    "if(BMI > 0):\n",
    "    if(BMI < 18.5) :\n",
    "        print(name+\", you are underweight\")\n",
    "    elif(BMI <= 24.9):\n",
    "        print(name+\", you are normal\")\n",
    "    elif(BMI <= 29.9):\n",
    "        print(name+\", you are overweight\")\n",
    "    else:\n",
    "        print(name+\", you are obese\")\n",
    "else:\n",
    "    print(\"Enter valied input\")\n",
    "    \n",
    "    \n"
   ]
  },
  {
   "cell_type": "code",
   "execution_count": null,
   "id": "d3b99e5f-b1b7-4ffd-bc7c-729c2ce1f044",
   "metadata": {},
   "outputs": [],
   "source": []
  },
  {
   "cell_type": "code",
   "execution_count": 15,
   "id": "7106a903-49d3-4304-b14d-d956aec0b7cb",
   "metadata": {},
   "outputs": [
    {
     "name": "stdout",
     "output_type": "stream",
     "text": [
      "12.117207698937086\n"
     ]
    }
   ],
   "source": []
  },
  {
   "cell_type": "code",
   "execution_count": 17,
   "id": "944ce252-9026-4676-bc12-e13c32d0f88b",
   "metadata": {},
   "outputs": [
    {
     "name": "stdout",
     "output_type": "stream",
     "text": [
      "Underweight\n"
     ]
    }
   ],
   "source": [
    "\n"
   ]
  },
  {
   "cell_type": "code",
   "execution_count": null,
   "id": "951c78c9-8f9a-47af-bcb0-2df569b44e63",
   "metadata": {},
   "outputs": [],
   "source": []
  },
  {
   "cell_type": "code",
   "execution_count": 9,
   "id": "a93cd851-6190-41e8-b26a-c956fc2ff16f",
   "metadata": {},
   "outputs": [],
   "source": []
  },
  {
   "cell_type": "code",
   "execution_count": null,
   "id": "5076a260-e781-4b6e-abaf-071ac04b814c",
   "metadata": {},
   "outputs": [],
   "source": []
  },
  {
   "cell_type": "code",
   "execution_count": null,
   "id": "8066eb55-4cbd-4feb-ab08-535addd94f7f",
   "metadata": {},
   "outputs": [],
   "source": []
  },
  {
   "cell_type": "code",
   "execution_count": null,
   "id": "b2756223-a0e0-436f-a65e-2b93c591755e",
   "metadata": {},
   "outputs": [],
   "source": []
  },
  {
   "cell_type": "code",
   "execution_count": null,
   "id": "da27f30f-3a0c-4d16-9bf5-9f6f0e339a06",
   "metadata": {},
   "outputs": [],
   "source": []
  },
  {
   "cell_type": "code",
   "execution_count": null,
   "id": "fe66ec35-e60d-40a8-abc3-8d1c606748c0",
   "metadata": {},
   "outputs": [],
   "source": []
  },
  {
   "cell_type": "code",
   "execution_count": null,
   "id": "3f2b03c4-9065-4628-bd39-00b859bef3ee",
   "metadata": {},
   "outputs": [],
   "source": []
  }
 ],
 "metadata": {
  "kernelspec": {
   "display_name": "Python 3 (ipykernel)",
   "language": "python",
   "name": "python3"
  },
  "language_info": {
   "codemirror_mode": {
    "name": "ipython",
    "version": 3
   },
   "file_extension": ".py",
   "mimetype": "text/x-python",
   "name": "python",
   "nbconvert_exporter": "python",
   "pygments_lexer": "ipython3",
   "version": "3.12.4"
  }
 },
 "nbformat": 4,
 "nbformat_minor": 5
}
